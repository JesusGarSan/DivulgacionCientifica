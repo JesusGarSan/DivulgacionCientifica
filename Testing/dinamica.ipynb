{
 "cells": [
  {
   "cell_type": "code",
   "execution_count": 1,
   "metadata": {},
   "outputs": [],
   "source": [
    "import numpy as np"
   ]
  },
  {
   "cell_type": "code",
   "execution_count": 8,
   "metadata": {},
   "outputs": [
    {
     "name": "stdout",
     "output_type": "stream",
     "text": [
      "\n",
      "Altura de caída: 10 m\n",
      "Tiempo de caída: 1.4285714285714286 s\n",
      "Velocidad en impacto: -14.000000000000002 m/s\n",
      "Velocidad en impacto: -50.400000000000006 km/h\n",
      "\n"
     ]
    }
   ],
   "source": [
    "# Dinámica de una caída libre\n",
    "\n",
    "g =  - 9.8 # m/s\n",
    "y0 = 10 # m\n",
    "\n",
    "t = np.sqrt(-2*y0/g)\n",
    "v = g * t\n",
    "\n",
    "print(f\"\"\"\n",
    "Altura de caída: {y0} m\n",
    "Tiempo de caída: {t} s\n",
    "Velocidad en impacto: {v} m/s\n",
    "Velocidad en impacto: {v * 3600/1000} km/h\n",
    "\"\"\")"
   ]
  },
  {
   "cell_type": "code",
   "execution_count": 19,
   "metadata": {},
   "outputs": [
    {
     "name": "stdout",
     "output_type": "stream",
     "text": [
      "\n",
      "momento inicial: -910.0000000000001 kg m/s\n",
      "momento final: 0 kg m/s\n",
      "duración impacto: 0.1 s\n",
      "Fuerza: 9100.0 N\n",
      "\n"
     ]
    }
   ],
   "source": [
    "# masa (kg)\n",
    "m = 60e-6 # Hormiga\n",
    "m = 65e-3 #  \n",
    "m = 65 # Humano\n",
    "\n",
    "# cantidad de movimiento\n",
    "# inicial\n",
    "v_i = v\n",
    "p_i = m * v_i\n",
    "\n",
    "\n",
    "# final\n",
    "v_f = 0\n",
    "p_f = m * v_f\n",
    "\n",
    "# Duración impacto\n",
    "t = .1\n",
    "\n",
    "# Fuerza\n",
    "F = (p_f - p_i)/t\n",
    "\n",
    "\n",
    "print(f\"\"\"\n",
    "momento inicial: {p_i} kg m/s\n",
    "momento final: {p_f} kg m/s\n",
    "duración impacto: {t} s\n",
    "Fuerza: {F} N\n",
    "\"\"\")\n",
    "\n"
   ]
  },
  {
   "cell_type": "code",
   "execution_count": 28,
   "metadata": {},
   "outputs": [
    {
     "name": "stdout",
     "output_type": "stream",
     "text": [
      "[[-0.09556658  0.21522412 -0.09936161  0.45830763  0.43551074]\n",
      " [ 0.2769654   0.45265193  0.43889261  0.46526239 -0.36324448]\n",
      " [-0.09390833  0.37778979 -0.07815668  0.31783286 -0.01910572]\n",
      " [-0.47801263  0.24999664 -0.3005847   0.24509474  0.43384713]\n",
      " [ 0.12876365  0.20218214 -0.37067458  0.47485586  0.24327057]]\n"
     ]
    },
    {
     "data": {
      "text/plain": [
       "array([[-0.09556658,  0.21522412, -0.09936161,  0.45830763,  0.43551074],\n",
       "       [ 0.2769654 ,  0.45265193,  0.43889261,  0.46526239, -0.36324448],\n",
       "       [-0.09390833,  0.37778979, -0.07815668,  0.31783286, -0.01910572],\n",
       "       [-0.47801263,  0.24999664, -0.3005847 ,  0.24509474,  0.43384713],\n",
       "       [ 0.12876365,  0.20218214, -0.37067458,  0.47485586,  0.24327057]])"
      ]
     },
     "execution_count": 28,
     "metadata": {},
     "output_type": "execute_result"
    }
   ],
   "source": [
    "a = np.random.rand(5,5)-0.5\n",
    "print(a)\n",
    "np.where(a>=0, a, a)"
   ]
  }
 ],
 "metadata": {
  "kernelspec": {
   "display_name": "Python 3",
   "language": "python",
   "name": "python3"
  },
  "language_info": {
   "codemirror_mode": {
    "name": "ipython",
    "version": 3
   },
   "file_extension": ".py",
   "mimetype": "text/x-python",
   "name": "python",
   "nbconvert_exporter": "python",
   "pygments_lexer": "ipython3",
   "version": "3.10.8"
  },
  "orig_nbformat": 4
 },
 "nbformat": 4,
 "nbformat_minor": 2
}
